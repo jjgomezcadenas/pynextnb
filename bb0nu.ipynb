{
 "cells": [
  {
   "cell_type": "markdown",
   "metadata": {},
   "source": [
    "# Studies using bb0nu data"
   ]
  },
  {
   "cell_type": "code",
   "execution_count": 178,
   "metadata": {},
   "outputs": [
    {
     "name": "stdout",
     "output_type": "stream",
     "text": [
      "The autoreload extension is already loaded. To reload it, use:\n",
      "  %reload_ext autoreload\n"
     ]
    }
   ],
   "source": [
    "%matplotlib inline\n",
    "%load_ext autoreload\n",
    "%autoreload 2\n",
    "import matplotlib.pyplot as plt\n",
    "from matplotlib.pyplot import imshow\n",
    "plt.rcParams[\"figure.figsize\"] = 10, 8\n",
    "plt.rcParams[\"font.size\"     ] = 14"
   ]
  },
  {
   "cell_type": "code",
   "execution_count": 179,
   "metadata": {},
   "outputs": [],
   "source": [
    "from IPython.display import Image \n",
    "from IPython.display import Math\n",
    "from IPython.display import Latex"
   ]
  },
  {
   "cell_type": "code",
   "execution_count": 180,
   "metadata": {},
   "outputs": [
    {
     "name": "stdout",
     "output_type": "stream",
     "text": [
      "Last updated on  Wed Feb  5 17:51:39 2020\n"
     ]
    }
   ],
   "source": [
    "import os\n",
    "import sys\n",
    "import glob\n",
    "import time\n",
    "import warnings\n",
    "import datetime \n",
    "print(\"Last updated on \", time.asctime())"
   ]
  },
  {
   "cell_type": "code",
   "execution_count": 181,
   "metadata": {},
   "outputs": [],
   "source": [
    "import seaborn as sns\n",
    "import numpy as np\n",
    "import pandas as pd\n",
    "import matplotlib\n",
    "import matplotlib.pyplot as plt\n",
    "from mpl_toolkits.mplot3d import Axes3D \n",
    "import tables            as tb\n",
    "import random\n",
    "import glob\n",
    "import warnings\n",
    "#sns.set()"
   ]
  },
  {
   "cell_type": "code",
   "execution_count": 182,
   "metadata": {},
   "outputs": [],
   "source": [
    "from pynext.system_of_units import *"
   ]
  },
  {
   "cell_type": "code",
   "execution_count": 183,
   "metadata": {},
   "outputs": [],
   "source": [
    "from pynext.pynext_types import TpcEL\n",
    "from pynext.pynext_types import TpcXe\n",
    "from pynext.pynext_types import Cylinder, Sphere, Ray\n",
    "from pynext.pynext_types import FiberWLS\n",
    "from pynext.pynext_types import WLS\n",
    "from pynext.pynext_types import SiPM\n",
    "from pynext.pynext_types import FiberDetector"
   ]
  },
  {
   "cell_type": "code",
   "execution_count": 184,
   "metadata": {},
   "outputs": [],
   "source": [
    "from pynext.graphics import draw_cylinder\n",
    "from pynext.pynext_plot import  display_figure\n",
    "from pynext.pynext_plot import  display_figures"
   ]
  },
  {
   "cell_type": "code",
   "execution_count": 185,
   "metadata": {},
   "outputs": [],
   "source": [
    "from pynext.histograms import  h1, h1d"
   ]
  },
  {
   "cell_type": "code",
   "execution_count": 210,
   "metadata": {},
   "outputs": [],
   "source": [
    "from pynext.pynext_trk import  read_df\n",
    "from pynext.pynext_trk import  track_length_in_z\n",
    "from pynext.pynext_trk import  track_length_in_steps\n",
    "from pynext.pynext_trk import  track_length_in_z_event_interval\n",
    "from pynext.pynext_trk import  track_length_in_steps_event_interval\n",
    "from pynext.pynext_trk import  rebin_df_in_z\n",
    "from pynext.pynext_trk import  emax_in_event_interval\n",
    "from pynext.pynext_trk import  energy_in_event_interval"
   ]
  },
  {
   "cell_type": "markdown",
   "metadata": {},
   "source": [
    "# Reading bb0nu data"
   ]
  },
  {
   "cell_type": "code",
   "execution_count": 187,
   "metadata": {},
   "outputs": [],
   "source": [
    "path = '/Users/jjgomezcadenas/Projects/Development/databb0nu/'\n",
    "file = 'NextTon.15atm.bb0nu.0_0_100.df.h5'"
   ]
  },
  {
   "cell_type": "code",
   "execution_count": 188,
   "metadata": {},
   "outputs": [
    {
     "data": {
      "text/html": [
       "<div>\n",
       "<style scoped>\n",
       "    .dataframe tbody tr th:only-of-type {\n",
       "        vertical-align: middle;\n",
       "    }\n",
       "\n",
       "    .dataframe tbody tr th {\n",
       "        vertical-align: top;\n",
       "    }\n",
       "\n",
       "    .dataframe thead th {\n",
       "        text-align: right;\n",
       "    }\n",
       "</style>\n",
       "<table border=\"1\" class=\"dataframe\">\n",
       "  <thead>\n",
       "    <tr style=\"text-align: right;\">\n",
       "      <th></th>\n",
       "      <th></th>\n",
       "      <th></th>\n",
       "      <th>label</th>\n",
       "      <th>time</th>\n",
       "      <th>x</th>\n",
       "      <th>y</th>\n",
       "      <th>z</th>\n",
       "      <th>E</th>\n",
       "    </tr>\n",
       "    <tr>\n",
       "      <th>event_id</th>\n",
       "      <th>particle_id</th>\n",
       "      <th>hit_id</th>\n",
       "      <th></th>\n",
       "      <th></th>\n",
       "      <th></th>\n",
       "      <th></th>\n",
       "      <th></th>\n",
       "      <th></th>\n",
       "    </tr>\n",
       "  </thead>\n",
       "  <tbody>\n",
       "    <tr>\n",
       "      <th rowspan=\"5\" valign=\"top\">0</th>\n",
       "      <th rowspan=\"5\" valign=\"top\">2</th>\n",
       "      <th>0</th>\n",
       "      <td>ACTIVE</td>\n",
       "      <td>0.003395</td>\n",
       "      <td>-0.546290</td>\n",
       "      <td>0.808249</td>\n",
       "      <td>99.846649</td>\n",
       "      <td>0.007756</td>\n",
       "    </tr>\n",
       "    <tr>\n",
       "      <th>1</th>\n",
       "      <td>ACTIVE</td>\n",
       "      <td>0.006800</td>\n",
       "      <td>-0.975028</td>\n",
       "      <td>1.638953</td>\n",
       "      <td>100.174286</td>\n",
       "      <td>0.005547</td>\n",
       "    </tr>\n",
       "    <tr>\n",
       "      <th>2</th>\n",
       "      <td>ACTIVE</td>\n",
       "      <td>0.010229</td>\n",
       "      <td>-1.141906</td>\n",
       "      <td>2.504077</td>\n",
       "      <td>100.641304</td>\n",
       "      <td>0.005672</td>\n",
       "    </tr>\n",
       "    <tr>\n",
       "      <th>3</th>\n",
       "      <td>ACTIVE</td>\n",
       "      <td>0.013665</td>\n",
       "      <td>-1.152955</td>\n",
       "      <td>3.347937</td>\n",
       "      <td>101.175766</td>\n",
       "      <td>0.007301</td>\n",
       "    </tr>\n",
       "    <tr>\n",
       "      <th>4</th>\n",
       "      <td>ACTIVE</td>\n",
       "      <td>0.017078</td>\n",
       "      <td>-1.147807</td>\n",
       "      <td>4.001503</td>\n",
       "      <td>101.922150</td>\n",
       "      <td>0.004648</td>\n",
       "    </tr>\n",
       "  </tbody>\n",
       "</table>\n",
       "</div>"
      ],
      "text/plain": [
       "                              label      time         x         y           z  \\\n",
       "event_id particle_id hit_id                                                     \n",
       "0        2           0       ACTIVE  0.003395 -0.546290  0.808249   99.846649   \n",
       "                     1       ACTIVE  0.006800 -0.975028  1.638953  100.174286   \n",
       "                     2       ACTIVE  0.010229 -1.141906  2.504077  100.641304   \n",
       "                     3       ACTIVE  0.013665 -1.152955  3.347937  101.175766   \n",
       "                     4       ACTIVE  0.017078 -1.147807  4.001503  101.922150   \n",
       "\n",
       "                                    E  \n",
       "event_id particle_id hit_id            \n",
       "0        2           0       0.007756  \n",
       "                     1       0.005547  \n",
       "                     2       0.005672  \n",
       "                     3       0.007301  \n",
       "                     4       0.004648  "
      ]
     },
     "execution_count": 188,
     "metadata": {},
     "output_type": "execute_result"
    }
   ],
   "source": [
    "df = read_df(path, file)\n",
    "df.head()"
   ]
  },
  {
   "cell_type": "code",
   "execution_count": 189,
   "metadata": {},
   "outputs": [
    {
     "name": "stdout",
     "output_type": "stream",
     "text": [
      "<class 'pandas.core.frame.DataFrame'>\n",
      "MultiIndex: 3361217 entries, (0, 2, 0) to (9668, 4, 27)\n",
      "Data columns (total 6 columns):\n",
      "label    object\n",
      "time     float32\n",
      "x        float32\n",
      "y        float32\n",
      "z        float32\n",
      "E        float32\n",
      "dtypes: float32(5), object(1)\n",
      "memory usage: 109.1+ MB\n"
     ]
    }
   ],
   "source": [
    "df.info()"
   ]
  },
  {
   "cell_type": "code",
   "execution_count": 191,
   "metadata": {},
   "outputs": [
    {
     "data": {
      "text/plain": [
       "185.86136"
      ]
     },
     "execution_count": 191,
     "metadata": {},
     "output_type": "execute_result"
    }
   ],
   "source": [
    "track_length_in_z(df, event_id=2)"
   ]
  },
  {
   "cell_type": "code",
   "execution_count": 192,
   "metadata": {},
   "outputs": [
    {
     "data": {
      "text/plain": [
       "336"
      ]
     },
     "execution_count": 192,
     "metadata": {},
     "output_type": "execute_result"
    }
   ],
   "source": [
    "track_length_in_steps(df, event_id=2)"
   ]
  },
  {
   "cell_type": "code",
   "execution_count": 193,
   "metadata": {},
   "outputs": [],
   "source": [
    "TRKZ = track_length_in_z_event_interval(df, id_max=1000)"
   ]
  },
  {
   "cell_type": "code",
   "execution_count": 194,
   "metadata": {},
   "outputs": [],
   "source": [
    "TRKL = track_length_in_steps_event_interval(df, id_max=9000)"
   ]
  },
  {
   "cell_type": "code",
   "execution_count": 195,
   "metadata": {},
   "outputs": [
    {
     "data": {
      "image/png": "[encoded data removed]",
      "text/plain": [
       "<Figure size 432x432 with 1 Axes>"
      ]
     },
     "metadata": {
      "needs_background": "light"
     },
     "output_type": "display_data"
    }
   ],
   "source": [
    "n, b, mu, std = h1d(TRKL, bins=10, range=(0,500))"
   ]
  },
  {
   "cell_type": "code",
   "execution_count": 196,
   "metadata": {},
   "outputs": [
    {
     "data": {
      "image/png": "[encoded data removed]",
      "text/plain": [
       "<Figure size 432x432 with 1 Axes>"
      ]
     },
     "metadata": {
      "needs_background": "light"
     },
     "output_type": "display_data"
    }
   ],
   "source": [
    "n, b, mu, std = h1d(TRKZ, bins=10, range=(0,300))"
   ]
  },
  {
   "cell_type": "markdown",
   "metadata": {},
   "source": [
    "### Rebinning \n",
    "\n",
    "- Steps correspond to 0.3 mm. We are interested in steps of 1 mm (~1 mus).\n",
    "- Need to rebin in about 25 bins. "
   ]
  },
  {
   "cell_type": "code",
   "execution_count": 205,
   "metadata": {},
   "outputs": [],
   "source": [
    "rdf = rebin_df_in_z(df,event_id=0, nbins=25)"
   ]
  },
  {
   "cell_type": "code",
   "execution_count": 206,
   "metadata": {},
   "outputs": [
    {
     "data": {
      "text/html": [
       "<div>\n",
       "<style scoped>\n",
       "    .dataframe tbody tr th:only-of-type {\n",
       "        vertical-align: middle;\n",
       "    }\n",
       "\n",
       "    .dataframe tbody tr th {\n",
       "        vertical-align: top;\n",
       "    }\n",
       "\n",
       "    .dataframe thead th {\n",
       "        text-align: right;\n",
       "    }\n",
       "</style>\n",
       "<table border=\"1\" class=\"dataframe\">\n",
       "  <thead>\n",
       "    <tr style=\"text-align: right;\">\n",
       "      <th></th>\n",
       "      <th>time</th>\n",
       "      <th>x</th>\n",
       "      <th>y</th>\n",
       "      <th>z</th>\n",
       "      <th>E</th>\n",
       "    </tr>\n",
       "    <tr>\n",
       "      <th>z</th>\n",
       "      <th></th>\n",
       "      <th></th>\n",
       "      <th></th>\n",
       "      <th></th>\n",
       "      <th></th>\n",
       "    </tr>\n",
       "  </thead>\n",
       "  <tbody>\n",
       "    <tr>\n",
       "      <th>(98.481, 99.493]</th>\n",
       "      <td>8.593654</td>\n",
       "      <td>-1319.514526</td>\n",
       "      <td>134.227417</td>\n",
       "      <td>1683.963135</td>\n",
       "      <td>0.141578</td>\n",
       "    </tr>\n",
       "    <tr>\n",
       "      <th>(99.493, 100.505]</th>\n",
       "      <td>6.035481</td>\n",
       "      <td>-916.532227</td>\n",
       "      <td>65.294304</td>\n",
       "      <td>2100.330811</td>\n",
       "      <td>0.210218</td>\n",
       "    </tr>\n",
       "    <tr>\n",
       "      <th>(100.505, 101.516]</th>\n",
       "      <td>28.272791</td>\n",
       "      <td>-3966.322998</td>\n",
       "      <td>289.933258</td>\n",
       "      <td>5754.645508</td>\n",
       "      <td>0.355872</td>\n",
       "    </tr>\n",
       "    <tr>\n",
       "      <th>(101.516, 102.528]</th>\n",
       "      <td>1.631673</td>\n",
       "      <td>-214.189545</td>\n",
       "      <td>27.542107</td>\n",
       "      <td>509.655975</td>\n",
       "      <td>0.054497</td>\n",
       "    </tr>\n",
       "    <tr>\n",
       "      <th>(102.528, 103.54]</th>\n",
       "      <td>2.955606</td>\n",
       "      <td>-457.350189</td>\n",
       "      <td>73.764595</td>\n",
       "      <td>924.946533</td>\n",
       "      <td>0.066898</td>\n",
       "    </tr>\n",
       "    <tr>\n",
       "      <th>(103.54, 104.551]</th>\n",
       "      <td>1.286319</td>\n",
       "      <td>-181.994431</td>\n",
       "      <td>37.868847</td>\n",
       "      <td>623.351013</td>\n",
       "      <td>0.038841</td>\n",
       "    </tr>\n",
       "    <tr>\n",
       "      <th>(104.551, 105.563]</th>\n",
       "      <td>0.911638</td>\n",
       "      <td>-107.243370</td>\n",
       "      <td>14.528696</td>\n",
       "      <td>525.398804</td>\n",
       "      <td>0.033587</td>\n",
       "    </tr>\n",
       "    <tr>\n",
       "      <th>(105.563, 106.575]</th>\n",
       "      <td>0.890329</td>\n",
       "      <td>-113.890709</td>\n",
       "      <td>28.284813</td>\n",
       "      <td>531.031860</td>\n",
       "      <td>0.042313</td>\n",
       "    </tr>\n",
       "    <tr>\n",
       "      <th>(106.575, 107.587]</th>\n",
       "      <td>0.522138</td>\n",
       "      <td>-54.670853</td>\n",
       "      <td>21.192162</td>\n",
       "      <td>428.901550</td>\n",
       "      <td>0.043323</td>\n",
       "    </tr>\n",
       "    <tr>\n",
       "      <th>(107.587, 108.598]</th>\n",
       "      <td>2.860100</td>\n",
       "      <td>-374.251251</td>\n",
       "      <td>296.603577</td>\n",
       "      <td>1732.758911</td>\n",
       "      <td>0.120992</td>\n",
       "    </tr>\n",
       "    <tr>\n",
       "      <th>(108.598, 109.61]</th>\n",
       "      <td>2.552142</td>\n",
       "      <td>-299.846893</td>\n",
       "      <td>351.810028</td>\n",
       "      <td>1963.783447</td>\n",
       "      <td>0.171869</td>\n",
       "    </tr>\n",
       "    <tr>\n",
       "      <th>(109.61, 110.622]</th>\n",
       "      <td>1.883803</td>\n",
       "      <td>-204.639786</td>\n",
       "      <td>242.156967</td>\n",
       "      <td>1541.634766</td>\n",
       "      <td>0.093547</td>\n",
       "    </tr>\n",
       "    <tr>\n",
       "      <th>(110.622, 111.633]</th>\n",
       "      <td>1.488151</td>\n",
       "      <td>-94.824211</td>\n",
       "      <td>158.182068</td>\n",
       "      <td>1333.374756</td>\n",
       "      <td>0.072066</td>\n",
       "    </tr>\n",
       "    <tr>\n",
       "      <th>(111.633, 112.645]</th>\n",
       "      <td>1.423441</td>\n",
       "      <td>-80.170242</td>\n",
       "      <td>27.929775</td>\n",
       "      <td>1009.885315</td>\n",
       "      <td>0.098671</td>\n",
       "    </tr>\n",
       "    <tr>\n",
       "      <th>(112.645, 113.657]</th>\n",
       "      <td>3.064878</td>\n",
       "      <td>66.496407</td>\n",
       "      <td>-49.041599</td>\n",
       "      <td>2714.350586</td>\n",
       "      <td>0.186110</td>\n",
       "    </tr>\n",
       "    <tr>\n",
       "      <th>(113.657, 114.668]</th>\n",
       "      <td>1.408988</td>\n",
       "      <td>-74.490295</td>\n",
       "      <td>59.250542</td>\n",
       "      <td>912.853210</td>\n",
       "      <td>0.080895</td>\n",
       "    </tr>\n",
       "    <tr>\n",
       "      <th>(114.668, 115.68]</th>\n",
       "      <td>1.184747</td>\n",
       "      <td>-151.413361</td>\n",
       "      <td>95.205460</td>\n",
       "      <td>576.278259</td>\n",
       "      <td>0.026302</td>\n",
       "    </tr>\n",
       "    <tr>\n",
       "      <th>(115.68, 116.692]</th>\n",
       "      <td>1.227347</td>\n",
       "      <td>-122.714317</td>\n",
       "      <td>105.270416</td>\n",
       "      <td>696.918823</td>\n",
       "      <td>0.042593</td>\n",
       "    </tr>\n",
       "    <tr>\n",
       "      <th>(116.692, 117.703]</th>\n",
       "      <td>5.571422</td>\n",
       "      <td>159.507904</td>\n",
       "      <td>125.052338</td>\n",
       "      <td>3166.822510</td>\n",
       "      <td>0.212731</td>\n",
       "    </tr>\n",
       "    <tr>\n",
       "      <th>(117.703, 118.715]</th>\n",
       "      <td>2.042806</td>\n",
       "      <td>-95.544647</td>\n",
       "      <td>103.480049</td>\n",
       "      <td>1180.957031</td>\n",
       "      <td>0.076201</td>\n",
       "    </tr>\n",
       "    <tr>\n",
       "      <th>(118.715, 119.727]</th>\n",
       "      <td>2.198554</td>\n",
       "      <td>-161.761871</td>\n",
       "      <td>111.289970</td>\n",
       "      <td>1191.737793</td>\n",
       "      <td>0.081153</td>\n",
       "    </tr>\n",
       "    <tr>\n",
       "      <th>(119.727, 120.738]</th>\n",
       "      <td>0.824215</td>\n",
       "      <td>-54.753174</td>\n",
       "      <td>46.122036</td>\n",
       "      <td>480.404480</td>\n",
       "      <td>0.044995</td>\n",
       "    </tr>\n",
       "    <tr>\n",
       "      <th>(120.738, 121.75]</th>\n",
       "      <td>2.058060</td>\n",
       "      <td>-309.535889</td>\n",
       "      <td>179.901459</td>\n",
       "      <td>970.416931</td>\n",
       "      <td>0.066469</td>\n",
       "    </tr>\n",
       "    <tr>\n",
       "      <th>(121.75, 122.762]</th>\n",
       "      <td>1.341720</td>\n",
       "      <td>-206.558853</td>\n",
       "      <td>106.040276</td>\n",
       "      <td>611.781860</td>\n",
       "      <td>0.085206</td>\n",
       "    </tr>\n",
       "  </tbody>\n",
       "</table>\n",
       "</div>"
      ],
      "text/plain": [
       "                         time            x           y            z         E\n",
       "z                                                                            \n",
       "(98.481, 99.493]     8.593654 -1319.514526  134.227417  1683.963135  0.141578\n",
       "(99.493, 100.505]    6.035481  -916.532227   65.294304  2100.330811  0.210218\n",
       "(100.505, 101.516]  28.272791 -3966.322998  289.933258  5754.645508  0.355872\n",
       "(101.516, 102.528]   1.631673  -214.189545   27.542107   509.655975  0.054497\n",
       "(102.528, 103.54]    2.955606  -457.350189   73.764595   924.946533  0.066898\n",
       "(103.54, 104.551]    1.286319  -181.994431   37.868847   623.351013  0.038841\n",
       "(104.551, 105.563]   0.911638  -107.243370   14.528696   525.398804  0.033587\n",
       "(105.563, 106.575]   0.890329  -113.890709   28.284813   531.031860  0.042313\n",
       "(106.575, 107.587]   0.522138   -54.670853   21.192162   428.901550  0.043323\n",
       "(107.587, 108.598]   2.860100  -374.251251  296.603577  1732.758911  0.120992\n",
       "(108.598, 109.61]    2.552142  -299.846893  351.810028  1963.783447  0.171869\n",
       "(109.61, 110.622]    1.883803  -204.639786  242.156967  1541.634766  0.093547\n",
       "(110.622, 111.633]   1.488151   -94.824211  158.182068  1333.374756  0.072066\n",
       "(111.633, 112.645]   1.423441   -80.170242   27.929775  1009.885315  0.098671\n",
       "(112.645, 113.657]   3.064878    66.496407  -49.041599  2714.350586  0.186110\n",
       "(113.657, 114.668]   1.408988   -74.490295   59.250542   912.853210  0.080895\n",
       "(114.668, 115.68]    1.184747  -151.413361   95.205460   576.278259  0.026302\n",
       "(115.68, 116.692]    1.227347  -122.714317  105.270416   696.918823  0.042593\n",
       "(116.692, 117.703]   5.571422   159.507904  125.052338  3166.822510  0.212731\n",
       "(117.703, 118.715]   2.042806   -95.544647  103.480049  1180.957031  0.076201\n",
       "(118.715, 119.727]   2.198554  -161.761871  111.289970  1191.737793  0.081153\n",
       "(119.727, 120.738]   0.824215   -54.753174   46.122036   480.404480  0.044995\n",
       "(120.738, 121.75]    2.058060  -309.535889  179.901459   970.416931  0.066469\n",
       "(121.75, 122.762]    1.341720  -206.558853  106.040276   611.781860  0.085206"
      ]
     },
     "execution_count": 206,
     "metadata": {},
     "output_type": "execute_result"
    }
   ],
   "source": [
    "rdf"
   ]
  },
  {
   "cell_type": "code",
   "execution_count": 207,
   "metadata": {},
   "outputs": [
    {
     "data": {
      "image/png": "[encoded data removed]",
      "text/plain": [
       "<Figure size 432x432 with 1 Axes>"
      ]
     },
     "metadata": {
      "needs_background": "light"
     },
     "output_type": "display_data"
    }
   ],
   "source": [
    "n, b, mu, std = h1d(rdf.E/keV, bins=10, range=(0,300))"
   ]
  },
  {
   "cell_type": "code",
   "execution_count": 208,
   "metadata": {},
   "outputs": [],
   "source": [
    "rdf1 = rebin_df_in_z(df, event_id=3)"
   ]
  },
  {
   "cell_type": "code",
   "execution_count": 209,
   "metadata": {},
   "outputs": [
    {
     "data": {
      "image/png": "[encoded data removed]",
      "text/plain": [
       "<Figure size 432x432 with 1 Axes>"
      ]
     },
     "metadata": {
      "needs_background": "light"
     },
     "output_type": "display_data"
    }
   ],
   "source": [
    "n, b, mu, std = h1d(rdf1.E/keV, bins=10, range=(0,300))"
   ]
  },
  {
   "cell_type": "code",
   "execution_count": 211,
   "metadata": {},
   "outputs": [],
   "source": [
    "E = energy_in_event_interval(df, id_min=0, id_max=1000, nbins=25)"
   ]
  },
  {
   "cell_type": "code",
   "execution_count": 212,
   "metadata": {},
   "outputs": [
    {
     "data": {
      "image/png": "[encoded data removed]",
      "text/plain": [
       "<Figure size 432x432 with 1 Axes>"
      ]
     },
     "metadata": {
      "needs_background": "light"
     },
     "output_type": "display_data"
    }
   ],
   "source": [
    "n, b, mu, std = h1d(E, bins=10, range=(0,600))"
   ]
  },
  {
   "cell_type": "code",
   "execution_count": 213,
   "metadata": {},
   "outputs": [],
   "source": [
    "EMX = emax_in_event_interval(df, id_min=0, id_max=1000, nbins=25)"
   ]
  },
  {
   "cell_type": "code",
   "execution_count": 214,
   "metadata": {},
   "outputs": [
    {
     "data": {
      "image/png": "[encoded data removed]",
      "text/plain": [
       "<Figure size 432x432 with 1 Axes>"
      ]
     },
     "metadata": {
      "needs_background": "light"
     },
     "output_type": "display_data"
    }
   ],
   "source": [
    "n, b, mu, std = h1d(EMX, bins=10, range=(0,2500))"
   ]
  },
  {
   "cell_type": "code",
   "execution_count": 215,
   "metadata": {},
   "outputs": [
    {
     "name": "stdout",
     "output_type": "stream",
     "text": [
      "max energy = 1493.71\n"
     ]
    }
   ],
   "source": [
    "emx_mu = mu\n",
    "emx_std = std\n",
    "emx = mu + 3 * std\n",
    "print(f'max energy = {emx:.2f}')"
   ]
  },
  {
   "cell_type": "markdown",
   "metadata": {},
   "source": [
    "# NEXT-HD"
   ]
  },
  {
   "cell_type": "code",
   "execution_count": 216,
   "metadata": {},
   "outputs": [
    {
     "data": {
      "text/plain": [
       "\n",
       "        E/P =    1.10 kV * cm^-1* bar^-1\n",
       "        dV = drift voltage =    0.50 kV * cm^-1\n",
       "        P  = pressure =   15.00 bar\n",
       "        d  = EL grid gap =   10.00 mm\n",
       "        L  = drift lenght =   1.25 m\n",
       "        Grid voltage =   16.50 kV\n",
       "        Cathode voltage =   79.00 kV\n",
       "        Yield =  5.70e+02 photons/e\n",
       "\n",
       "    \n",
       "        Primary scintillation photons per MeV = 2.55e+04\n",
       "        Primary ionization electrons per MeV = 4.57e+04\n",
       "        EL photons per MeV                   = 2.60e+07\n",
       "        \n",
       "        Primary scintillation Krypton = 1.06e+03\n",
       "        Primary ionization electrons Krypton = 1.89e+03\n",
       "        EL photons Krypton                   = 1.08e+06\n",
       "        \n",
       "        Primary scintillation Qbb = 6.27e+04\n",
       "        Primary ionization electrons Qbb = 1.12e+05\n",
       "        EL photons Qbb                   = 6.40e+07\n",
       "        "
      ]
     },
     "execution_count": 216,
     "metadata": {},
     "output_type": "execute_result"
    }
   ],
   "source": [
    "tpcel = TpcEL(EP = 1.1 * kilovolt / (cm * bar),\n",
    "               dV = 0.5 * kilovolt / cm,\n",
    "               P  =  15 * bar,\n",
    "               d  =  10 * mm,\n",
    "               L  = 125 * cm)\n",
    "tpcel"
   ]
  },
  {
   "cell_type": "code",
   "execution_count": 217,
   "metadata": {},
   "outputs": [
    {
     "data": {
      "text/plain": [
       "Cylinder(r=1250.0, zmin=-1250.0, zmax=1250.0)"
      ]
     },
     "execution_count": 217,
     "metadata": {},
     "output_type": "execute_result"
    }
   ],
   "source": [
    "r    = 125 * cm\n",
    "zmin = -125 * cm\n",
    "zmax = 125 * cm\n",
    "chd =Cylinder(r, zmin, zmax)\n",
    "chd"
   ]
  },
  {
   "cell_type": "code",
   "execution_count": 218,
   "metadata": {},
   "outputs": [
    {
     "data": {
      "text/plain": [
       "\n",
       "        material       = Xenon\n",
       "        density (rho)  =    0.09 g/cm3\n",
       "        mass           = 1103.24  kg\n",
       "        Cylinder       = Cylinder(r=1250.0, zmin=-1250.0, zmax=1250.0)\n",
       "    "
      ]
     },
     "execution_count": 218,
     "metadata": {},
     "output_type": "execute_result"
    }
   ],
   "source": [
    "hdxe = TpcXe(chd)\n",
    "hdxe"
   ]
  },
  {
   "cell_type": "code",
   "execution_count": 219,
   "metadata": {},
   "outputs": [
    {
     "data": {
      "text/plain": [
       "WLS(name='TPB', qeff=0.65)"
      ]
     },
     "execution_count": 219,
     "metadata": {},
     "output_type": "execute_result"
    }
   ],
   "source": [
    "tpb = WLS(name='TPB', qeff=0.65)\n",
    "tpb"
   ]
  },
  {
   "cell_type": "code",
   "execution_count": 220,
   "metadata": {},
   "outputs": [
    {
     "data": {
      "text/plain": [
       "\n",
       "        diameter =2.0 mm, Q = 0.85, PTFE refl = 0.98\n",
       "        ncore = 1.6, nclad1 =1.49, nclad2 =1.42\n",
       "        Absoprtion prob at 450 nm     = 0.8906170225195483\n",
       "        Trapping efficieny            = 0.09837038590604039\n",
       "        Fiber coated with WLS         = TPB\n",
       "        WLS QE                        = 0.65\n",
       "\n",
       "    "
      ]
     },
     "execution_count": 220,
     "metadata": {},
     "output_type": "execute_result"
    }
   ],
   "source": [
    "fwls = FiberWLS(d = 2*mm, wls = tpb, qfib = 0.85, qptfe=0.98, ncore = 1.6, nclad1 = 1.49, nclad2 = 1.42, latt = 3.5*m)\n",
    "fwls"
   ]
  },
  {
   "cell_type": "code",
   "execution_count": 221,
   "metadata": {},
   "outputs": [
    {
     "data": {
      "text/plain": [
       "\n",
       "        sensor =s13360, size = 2.0 mm, PDE = 0.4\n",
       "        capacitance = 150.00 pF;\n",
       "        "
      ]
     },
     "execution_count": 221,
     "metadata": {},
     "output_type": "execute_result"
    }
   ],
   "source": [
    "s13360 = SiPM(name='s13360', xsize=2*mm, PDE = 0.4, C = 150*pF, Rs=100*ohm)\n",
    "s13360"
   ]
  },
  {
   "cell_type": "code",
   "execution_count": 228,
   "metadata": {},
   "outputs": [
    {
     "data": {
      "text/plain": [
       "\n",
       "        gas pressure  =   15.00 bar\n",
       "        gas density   =    0.09 g/cm3\n",
       "        gas mass      = 1103.24  kg\n",
       "\n",
       "        Dimensions(Cylinder)  = Cylinder(r=1250.0, zmin=-1250.0, zmax=1250.0)\n",
       "\n",
       "        Fibers efficiency = 3.58 %\n",
       "        of which: Transport = 0.051152600671141 % & attenuation = 0.6996725373751304 %\n",
       "        SiPM PDE          = 0.40\n",
       "        SiPM size         = 2.00 mm\n",
       "        fiber size        = 2.00 mm\n",
       "        Sampling S1       = 100.00 ns\n",
       "        ADC counts 1 PE   = 15\n",
       "        number of fibers  = 3927\n",
       "\n",
       "        Primary scintillation Krypton          = 1.06e+03\n",
       "        EL photons Krypton                     = 1.08e+06\n",
       "        Primary scintillation Qbb              = 6.27e+04\n",
       "        EL photons Qbb                         = 6.40e+07\n",
       "\n",
       "        Primary scintillation Krypton detected = 1.52e+01\n",
       "        EL photons Krypton detected            = 1.55e+04\n",
       "        Primary scintillation Qbb detected     = 8.98e+02\n",
       "        EL photons Qbb detected                = 9.16e+05\n",
       "\n",
       "        Primary scintillation Krypton det/fiber = 3.86e-03\n",
       "        EL photons Krypton det/fiber            = 3.94e+00\n",
       "        Primary scintillation Qbb det/fiber     = 2.29e-01\n",
       "        EL photons Qbb det/fiber                = 2.33e+02\n",
       "\n",
       "        Number of DCR photons in the detector for:\n",
       "         --operating temperature (-25.00 C)\n",
       "         --sampling time of 100.00\n",
       "         -- nDCR = 1.75\n",
       "        "
      ]
     },
     "execution_count": 228,
     "metadata": {},
     "output_type": "execute_result"
    }
   ],
   "source": [
    "fhd = FiberDetector(tpcel, hdxe, fwls, s13360, eff_t=0.80, sampling= 100 * ns, adcPerPes=15, tempC=-25)\n",
    "fhd"
   ]
  },
  {
   "cell_type": "code",
   "execution_count": 229,
   "metadata": {},
   "outputs": [
    {
     "name": "stdout",
     "output_type": "stream",
     "text": [
      "EL photons per MeV =2.60e+07\n"
     ]
    }
   ],
   "source": [
    "print(f'EL photons per MeV ={fhd.tpcel.el_photons(1*MeV):.2e}')"
   ]
  },
  {
   "cell_type": "code",
   "execution_count": 233,
   "metadata": {},
   "outputs": [
    {
     "name": "stdout",
     "output_type": "stream",
     "text": [
      "EL photons max energy deposit (per mus) =3.90e+07\n",
      "EL photons max energy deposit (per mus) =1.30e+07\n"
     ]
    }
   ],
   "source": [
    "max_energy_deposit_mus  = 1500 * keV\n",
    "mean_energy_deposit_mus = 500 * keV\n",
    "ng_max_energy_deposit_mus = fdHD.tpcel.el_photons(max_energy_deposit_mus)\n",
    "print(f'EL photons max energy deposit (per mus) ={ng_max_energy_deposit_mus:.2e}')\n",
    "ng_mean_energy_deposit_mus = fdHD.tpcel.el_photons(mean_energy_deposit_mus)\n",
    "print(f'EL photons max energy deposit (per mus) ={ng_mean_energy_deposit_mus:.2e}')"
   ]
  },
  {
   "cell_type": "code",
   "execution_count": 237,
   "metadata": {},
   "outputs": [
    {
     "name": "stdout",
     "output_type": "stream",
     "text": [
      "Number of PE max energy deposit in full detector (mus) = 5.59e+05\n",
      "Number of PE mean energy deposit in full detector (mus) = 1.86e+05\n"
     ]
    }
   ],
   "source": [
    "nphe_max_energy_deposit_mus = ng_max_energy_deposit_mus * fhd.efficiency * fhd.sipm.PDE \n",
    "nphe_mean_energy_deposit_mus = ng_mean_energy_deposit_mus * fhd.efficiency * fhd.sipm.PDE \n",
    "print(f'Number of PE max energy deposit in full detector (mus) = {nphe_max_energy_deposit_mus:.2e}')\n",
    "print(f'Number of PE mean energy deposit in full detector (mus) = {nphe_mean_energy_deposit_mus:.2e}')"
   ]
  },
  {
   "cell_type": "code",
   "execution_count": 238,
   "metadata": {},
   "outputs": [
    {
     "name": "stdout",
     "output_type": "stream",
     "text": [
      "Number of PE max energy deposit per fiber (mus) = 1.42e+02\n",
      "Number of PE mean energy deposit per fiber (mus) = 4.74e+01\n"
     ]
    }
   ],
   "source": [
    "nphe_max_energy_deposit_mus_fb  = nphe_max_energy_deposit_mus / fhd.n_fibers  \n",
    "nphe_mean_energy_deposit_mus_fb = nphe_mean_energy_deposit_mus / fhd.n_fibers \n",
    "print(f'Number of PE max energy deposit per fiber (mus) = {nphe_max_energy_deposit_mus_fb:.2e}')\n",
    "print(f'Number of PE mean energy deposit per fiber (mus) = {nphe_mean_energy_deposit_mus_fb:.2e}')"
   ]
  },
  {
   "cell_type": "code",
   "execution_count": 240,
   "metadata": {},
   "outputs": [],
   "source": [
    "pe_to_adc = 15"
   ]
  },
  {
   "cell_type": "code",
   "execution_count": 239,
   "metadata": {},
   "outputs": [],
   "source": [
    "def n_bits(npe):\n",
    "    return int(np.log(npe -2)) + 1"
   ]
  },
  {
   "cell_type": "code",
   "execution_count": 241,
   "metadata": {},
   "outputs": [
    {
     "name": "stdout",
     "output_type": "stream",
     "text": [
      "Number of bits max energy deposit per fiber (mus) = 8.00e+00\n",
      "Number of bits mean energy deposit per fiber (mus) = 7.00e+00\n"
     ]
    }
   ],
   "source": [
    "nbits_max_energy_deposit_mus_fb  = n_bits(nphe_max_energy_deposit_mus_fb * pe_to_adc)  \n",
    "nbits_mean_energy_deposit_mus_fb = n_bits(nphe_mean_energy_deposit_mus_fb * pe_to_adc) \n",
    "print(f'Number of bits max energy deposit per fiber (mus) = {nbits_max_energy_deposit_mus_fb:.2e}')\n",
    "print(f'Number of bits mean energy deposit per fiber (mus) = {nbits_mean_energy_deposit_mus_fb:.2e}')"
   ]
  },
  {
   "cell_type": "code",
   "execution_count": 258,
   "metadata": {},
   "outputs": [
    {
     "name": "stdout",
     "output_type": "stream",
     "text": [
      "GFiber (number of ganged fibers) =10\n"
     ]
    }
   ],
   "source": [
    "nfg = 10 # number of fibers to gang\n",
    "print(f'GFiber (number of ganged fibers) ={nfg}')"
   ]
  },
  {
   "cell_type": "code",
   "execution_count": 259,
   "metadata": {},
   "outputs": [
    {
     "name": "stdout",
     "output_type": "stream",
     "text": [
      "Number of bits max energy deposit per GFiber (mus) = 1.00e+01\n",
      "Number of bits mean energy deposit per GFiber (mus) = 9.00e+00\n"
     ]
    }
   ],
   "source": [
    "nbits_max_energy_deposit_mus_nfg  = n_bits(nphe_max_energy_deposit_mus_fb * pe_to_adc * nfg)  \n",
    "nbits_mean_energy_deposit_mus_nfg = n_bits(nphe_mean_energy_deposit_mus_fb * pe_to_adc * nfg) \n",
    "print(f'Number of bits max energy deposit per GFiber (mus) = {nbits_max_energy_deposit_mus_nfg:.2e}')\n",
    "print(f'Number of bits mean energy deposit per GFiber (mus) = {nbits_mean_energy_deposit_mus_nfg:.2e}')"
   ]
  },
  {
   "cell_type": "code",
   "execution_count": null,
   "metadata": {},
   "outputs": [],
   "source": []
  }
 ],
 "metadata": {
  "kernelspec": {
   "display_name": "Python 3",
   "language": "python",
   "name": "python3"
  },
  "language_info": {
   "codemirror_mode": {
    "name": "ipython",
    "version": 3
   },
   "file_extension": ".py",
   "mimetype": "text/x-python",
   "name": "python",
   "nbconvert_exporter": "python",
   "pygments_lexer": "ipython3",
   "version": "3.7.6"
  }
 },
 "nbformat": 4,
 "nbformat_minor": 4
}
